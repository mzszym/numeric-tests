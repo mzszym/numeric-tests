{
 "cells": [
  {
   "cell_type": "markdown",
   "metadata": {},
   "source": [
    "# The lumped kinetic model (LKM)\n",
    "\n",
    "Marek Szymanski"
   ]
  },
  {
   "cell_type": "code",
   "execution_count": 1,
   "metadata": {},
   "outputs": [],
   "source": [
    "import scipy.integrate"
   ]
  },
  {
   "cell_type": "code",
   "execution_count": 2,
   "metadata": {},
   "outputs": [],
   "source": [
    "from sparsegrad.base import *\n",
    "from sparsegrad.forward import nvalue\n",
    "\n",
    "N=1000\n",
    "\n",
    "def f_langmur(c, params):\n",
    "    return params.a*c/(1.+params.b*c)\n",
    "\n",
    "def internal_ode(c, q, c_dz, c_ddz, params, f):\n",
    "    qstar = f(c, params)\n",
    "    d=qstar-q\n",
    "    c_dt = -params.u*c_dz + params.D * c_ddz - params.k/params.epsilon*d\n",
    "    q_dt = params.k/(1-params.epsilon) * d\n",
    "    return c_dt, q_dt\n",
    "\n",
    "def cinj_prescribed(t, params):\n",
    "    return where(t<=params.tinj, params.cinj, 0)"
   ]
  },
  {
   "cell_type": "code",
   "execution_count": 3,
   "metadata": {},
   "outputs": [],
   "source": [
    "def ode(t, x, params, f):\n",
    "    L=params.L\n",
    "    h=L/(N-1)\n",
    "    c_int = x[0:N-2]\n",
    "    q_int = x[N-2:2*N-4]\n",
    "    # BC0: Solve -params.D/params.u * c_dz[0] + c[0] - cinj_prescribed(t, params) for c[0]\n",
    "    v = -params.D/params.u\n",
    "    bc0 = (cinj_prescribed(t, params) - v*c_int[0]/h)/(1-v/h)\n",
    "    # BC1: \n",
    "    bc1 = c_int[-1]\n",
    "    c = stack(bc0, c_int, bc1)\n",
    "    h = L/(N-1)\n",
    "    c_dz = (c[1:]-c[:-1]) / h\n",
    "    c_dz_sym = 0.5*(c_dz[:-1]+c_dz[1:])\n",
    "    c_ddz = (c_dz[1:]-c_dz[:-1]) / h\n",
    "    assert np.allclose(nvalue(-params.D/params.u * c_dz[0] + c[0]), cinj_prescribed(t, params))\n",
    "    assert np.allclose(nvalue(c_dz[-1]), 0)\n",
    "    return stack(*internal_ode(c_int, q_int, c_dz_sym, c_ddz, params, f))"
   ]
  },
  {
   "cell_type": "code",
   "execution_count": 4,
   "metadata": {},
   "outputs": [],
   "source": [
    "from collections import namedtuple\n",
    "params_type = namedtuple('params', ['L','D', 'u', 'a', 'b', 'epsilon', 'cinj', 'tinj','k'])    "
   ]
  },
  {
   "cell_type": "code",
   "execution_count": 5,
   "metadata": {},
   "outputs": [],
   "source": [
    "params_table = params_type(L=1e-2, \n",
    "                           epsilon=0.4, \n",
    "                           u=1e-2/60, \n",
    "                           D=2e-8/60,\n",
    "                           cinj=1e-3/1e-3, \n",
    "                           a=1, \n",
    "                           #b=0.1e-3/1e-3,\n",
    "                           b=0,\n",
    "                           tinj=3*60, \n",
    "                           k=100/60)"
   ]
  },
  {
   "cell_type": "code",
   "execution_count": 6,
   "metadata": {},
   "outputs": [],
   "source": [
    "import numpy as np"
   ]
  },
  {
   "cell_type": "code",
   "execution_count": 7,
   "metadata": {},
   "outputs": [],
   "source": [
    "from sparsegrad.forward import seed"
   ]
  },
  {
   "cell_type": "code",
   "execution_count": 8,
   "metadata": {
    "scrolled": true
   },
   "outputs": [],
   "source": [
    "cinit = 0 \n",
    "qinit = 0\n",
    "x0 = np.zeros(2*N-4)\n",
    "x0[:N-2] = cinit\n",
    "x0[N-2:2*N-4] = qinit"
   ]
  },
  {
   "cell_type": "code",
   "execution_count": 9,
   "metadata": {},
   "outputs": [],
   "source": [
    "%matplotlib inline\n",
    "import matplotlib.pylab as plt"
   ]
  },
  {
   "cell_type": "code",
   "execution_count": 10,
   "metadata": {},
   "outputs": [],
   "source": [
    "x = x0\n",
    "def jac(t, x):\n",
    "    return ode(t, seed(x), params_table, f_langmur).dvalue.tocsr()\n",
    "def func(t, x):\n",
    "    return ode(t,x,params_table,f_langmur)\n",
    "result = scipy.integrate.solve_ivp(func, [0, 8*60], x0, method='Radau', jac=jac, rtol=1e-6, atol=1e-8)"
   ]
  },
  {
   "cell_type": "code",
   "execution_count": 11,
   "metadata": {},
   "outputs": [
    {
     "data": {
      "text/plain": [
       "[<matplotlib.lines.Line2D at 0x7fa170b14278>]"
      ]
     },
     "execution_count": 11,
     "metadata": {},
     "output_type": "execute_result"
    },
    {
     "data": {
      "image/png": "[encoded data removed]",
      "text/plain": [
       "<Figure size 432x288 with 1 Axes>"
      ]
     },
     "metadata": {},
     "output_type": "display_data"
    }
   ],
   "source": [
    "plt.plot(result.t/60, result.y[N-3,:])"
   ]
  },
  {
   "cell_type": "code",
   "execution_count": 12,
   "metadata": {},
   "outputs": [
    {
     "data": {
      "application/vnd.jupyter.widget-view+json": {
       "model_id": "88769499279848a784ecada0e63acc24",
       "version_major": 2,
       "version_minor": 0
      },
      "text/plain": [
       "interactive(children=(IntSlider(value=0, description='i', max=917), Output()), _dom_classes=('widget-interact'…"
      ]
     },
     "metadata": {},
     "output_type": "display_data"
    },
    {
     "data": {
      "text/plain": [
       "<function __main__.plot(i=IntSlider(value=0, description='i', max=917))>"
      ]
     },
     "execution_count": 12,
     "metadata": {},
     "output_type": "execute_result"
    }
   ],
   "source": [
    "import ipywidgets\n",
    "\n",
    "def plot(i=ipywidgets.IntSlider(min=0,max=len(result.t)-1)):\n",
    "    print('time = ', result.t[i])\n",
    "    plt.plot(result.y[:N-2,i])\n",
    "    plt.show()\n",
    "\n",
    "ipywidgets.interact(plot)"
   ]
  },
  {
   "cell_type": "code",
   "execution_count": null,
   "metadata": {},
   "outputs": [],
   "source": []
  }
 ],
 "metadata": {
  "kernelspec": {
   "display_name": "Python 3",
   "language": "python",
   "name": "python3"
  },
  "language_info": {
   "codemirror_mode": {
    "name": "ipython",
    "version": 3
   },
   "file_extension": ".py",
   "mimetype": "text/x-python",
   "name": "python",
   "nbconvert_exporter": "python",
   "pygments_lexer": "ipython3",
   "version": "3.7.0"
  }
 },
 "nbformat": 4,
 "nbformat_minor": 2
}
