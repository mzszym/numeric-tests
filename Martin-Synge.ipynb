{
 "cells": [
  {
   "cell_type": "markdown",
   "metadata": {},
   "source": [
    "# Martin-Synge algorithm\n",
    "\n",
    "\n",
    "Marek Szymanski"
   ]
  },
  {
   "cell_type": "markdown",
   "metadata": {},
   "source": [
    "Version 1.1:\n",
    "- units are min/cm/M\n",
    "- parameters from email\n",
    "- tinj parameter : injection time\n",
    "- saving to file: result-Martin-Synge.txt"
   ]
  },
  {
   "cell_type": "code",
   "execution_count": 1,
   "metadata": {},
   "outputs": [],
   "source": [
    "import scipy.integrate\n",
    "import numpy as np\n",
    "from sparsegrad.base import *\n",
    "from sparsegrad.forward import nvalue, seed"
   ]
  },
  {
   "cell_type": "code",
   "execution_count": 2,
   "metadata": {},
   "outputs": [],
   "source": [
    "from collections import namedtuple\n",
    "params_type = namedtuple('params_type', ['cinj', 'tinj', 'F', 'a', 'b', 'L', 'u'])"
   ]
  },
  {
   "cell_type": "code",
   "execution_count": 3,
   "metadata": {},
   "outputs": [],
   "source": [
    "def cinj_prescribed(t, params):\n",
    "    return where(t<=params.tinj, params.cinj, 0)"
   ]
  },
  {
   "cell_type": "code",
   "execution_count": 4,
   "metadata": {},
   "outputs": [],
   "source": [
    "def f_langmuir(c, params):\n",
    "    return params.a*c/(1.+params.b*c)\n",
    "def dfdc_langmuir(c, params):\n",
    "    return params.a/(params.b*c + 1)**2"
   ]
  },
  {
   "cell_type": "code",
   "execution_count": 5,
   "metadata": {},
   "outputs": [],
   "source": [
    "def ode(t, x, params):\n",
    "    c = stack(cinj_prescribed(t, params), x)\n",
    "    N = len(nvalue(x)) + 1\n",
    "    dz = params.L / (N-1)\n",
    "    deriv_z = (c[1:]-c[:-1])/dz\n",
    "    # dq/dt = dq/dc*dc/dt assuming const params\n",
    "    return -params.u*deriv_z / (1.+params.F*dfdc_langmuir(x, params))"
   ]
  },
  {
   "cell_type": "code",
   "execution_count": 6,
   "metadata": {},
   "outputs": [],
   "source": [
    "params_table = params_type(L=15, \n",
    "                           u=20.62, \n",
    "                           F=0.42,\n",
    "                           cinj=0.1,\n",
    "                           a=15, \n",
    "                           b=50,\n",
    "                           tinj=0.1)"
   ]
  },
  {
   "cell_type": "code",
   "execution_count": 7,
   "metadata": {},
   "outputs": [],
   "source": [
    "N = 100\n",
    "x0 = np.zeros(N)\n",
    "def jac(t, x):\n",
    "    return ode(t, seed(x), params_table).dvalue.tocsr()\n",
    "def func(t, x):\n",
    "    return ode(t, x,params_table)\n",
    "result = scipy.integrate.solve_ivp(func, [0, 10], x0, method='Radau', jac=jac, rtol=1e-6, atol=1e-8)"
   ]
  },
  {
   "cell_type": "code",
   "execution_count": 8,
   "metadata": {},
   "outputs": [],
   "source": [
    "%matplotlib inline\n",
    "import matplotlib.pylab as plt"
   ]
  },
  {
   "cell_type": "code",
   "execution_count": 9,
   "metadata": {},
   "outputs": [
    {
     "data": {
      "text/plain": [
       "[<matplotlib.lines.Line2D at 0x1512059d30>]"
      ]
     },
     "execution_count": 9,
     "metadata": {},
     "output_type": "execute_result"
    },
    {
     "data": {
      "image/png": "[encoded data removed]",
      "text/plain": [
       "<matplotlib.figure.Figure at 0x1511ff6588>"
      ]
     },
     "metadata": {},
     "output_type": "display_data"
    }
   ],
   "source": [
    "time, c_out = result.t, result.y[-1,:]\n",
    "plt.plot(time, c_out)"
   ]
  },
  {
   "cell_type": "code",
   "execution_count": 10,
   "metadata": {},
   "outputs": [],
   "source": [
    "np.savetxt('result-Martin-Synge.txt', np.vstack((time, c_out)).transpose(), header='time [min] c_out [M]')"
   ]
  },
  {
   "cell_type": "code",
   "execution_count": 11,
   "metadata": {},
   "outputs": [
    {
     "data": {
      "application/vnd.jupyter.widget-view+json": {
       "model_id": "5c2a006065a44b6b80bd51b2ec047607",
       "version_major": 2,
       "version_minor": 0
      },
      "text/html": [
       "<p>Failed to display Jupyter Widget of type <code>interactive</code>.</p>\n",
       "<p>\n",
       "  If you're reading this message in the Jupyter Notebook or JupyterLab Notebook, it may mean\n",
       "  that the widgets JavaScript is still loading. If this message persists, it\n",
       "  likely means that the widgets JavaScript library is either not installed or\n",
       "  not enabled. See the <a href=\"https://ipywidgets.readthedocs.io/en/stable/user_install.html\">Jupyter\n",
       "  Widgets Documentation</a> for setup instructions.\n",
       "</p>\n",
       "<p>\n",
       "  If you're reading this message in another frontend (for example, a static\n",
       "  rendering on GitHub or <a href=\"https://nbviewer.jupyter.org/\">NBViewer</a>),\n",
       "  it may mean that your frontend doesn't currently support widgets.\n",
       "</p>\n"
      ],
      "text/plain": [
       "interactive(children=(IntSlider(value=0, description='i', max=515), Output()), _dom_classes=('widget-interact',))"
      ]
     },
     "metadata": {},
     "output_type": "display_data"
    },
    {
     "data": {
      "text/plain": [
       "<function __main__.plot>"
      ]
     },
     "execution_count": 11,
     "metadata": {},
     "output_type": "execute_result"
    }
   ],
   "source": [
    "import ipywidgets\n",
    "\n",
    "def plot(i=ipywidgets.IntSlider(min=0,max=len(result.t)-1)):\n",
    "    print('time = ', result.t[i])\n",
    "    plt.plot(result.y[:N-2,i])\n",
    "    plt.show()\n",
    "\n",
    "ipywidgets.interact(plot)"
   ]
  }
 ],
 "metadata": {
  "kernelspec": {
   "display_name": "Python 3",
   "language": "python",
   "name": "python3"
  },
  "language_info": {
   "codemirror_mode": {
    "name": "ipython",
    "version": 3
   },
   "file_extension": ".py",
   "mimetype": "text/x-python",
   "name": "python",
   "nbconvert_exporter": "python",
   "pygments_lexer": "ipython3",
   "version": "3.6.3"
  }
 },
 "nbformat": 4,
 "nbformat_minor": 2
}
