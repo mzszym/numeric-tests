{
 "cells": [
  {
   "cell_type": "markdown",
   "metadata": {},
   "source": [
    "# Martin-Synge algorithm\n",
    "\n",
    "\n",
    "Marek Szymanski"
   ]
  },
  {
   "cell_type": "code",
   "execution_count": 1,
   "metadata": {},
   "outputs": [],
   "source": [
    "import scipy.integrate\n",
    "import numpy as np\n",
    "from sparsegrad.base import *\n",
    "from sparsegrad.forward import nvalue, seed"
   ]
  },
  {
   "cell_type": "code",
   "execution_count": 2,
   "metadata": {},
   "outputs": [],
   "source": [
    "from collections import namedtuple\n",
    "params_type = namedtuple('params_type', ['c0', 'F', 'a', 'b', 'L', 'u'])"
   ]
  },
  {
   "cell_type": "code",
   "execution_count": 3,
   "metadata": {},
   "outputs": [],
   "source": [
    "def f_langmuir(c, params):\n",
    "    return params.a*c/(1.+params.b*c)\n",
    "def dfdc_langmuir(c, params):\n",
    "    return params.a/(params.b*c + 1)**2"
   ]
  },
  {
   "cell_type": "code",
   "execution_count": 4,
   "metadata": {},
   "outputs": [],
   "source": [
    "def ode(t, x, params):\n",
    "    c = stack(params.c0, x)\n",
    "    N = len(nvalue(x)) + 1\n",
    "    dz = params.L / (N-1)\n",
    "    deriv_z = (c[1:]-c[:-1])/dz\n",
    "    # dq/dt = dq/dc*dc/dt assuming const params\n",
    "    return -params.u*deriv_z / (1.+params.F*dfdc_langmuir(x, params))"
   ]
  },
  {
   "cell_type": "code",
   "execution_count": 5,
   "metadata": {},
   "outputs": [],
   "source": [
    "params_table = params_type(L=1e-2, \n",
    "                           u=1e-2/60, \n",
    "                           F=100/60/0.4, # k/epsilon\n",
    "                           c0=1e-3/1e-3, # cinj\n",
    "                           a=1, \n",
    "                           #b=0.1e-3/1e-3,\n",
    "                           b=0)"
   ]
  },
  {
   "cell_type": "code",
   "execution_count": 6,
   "metadata": {},
   "outputs": [],
   "source": [
    "N = 100\n",
    "x0 = np.zeros(N)\n",
    "def jac(t, x):\n",
    "    return ode(t, seed(x), params_table).dvalue.tocsr()\n",
    "def func(t, x):\n",
    "    return ode(t, x,params_table)\n",
    "result = scipy.integrate.solve_ivp(func, [0, 8*60], x0, method='Radau', jac=jac, rtol=1e-6, atol=1e-8)"
   ]
  },
  {
   "cell_type": "code",
   "execution_count": 7,
   "metadata": {},
   "outputs": [],
   "source": [
    "%matplotlib inline\n",
    "import matplotlib.pylab as plt"
   ]
  },
  {
   "cell_type": "code",
   "execution_count": 8,
   "metadata": {},
   "outputs": [
    {
     "data": {
      "text/plain": [
       "[<matplotlib.lines.Line2D at 0x7f46a93ebe48>]"
      ]
     },
     "execution_count": 8,
     "metadata": {},
     "output_type": "execute_result"
    },
    {
     "data": {
      "image/png": "[encoded data removed]",
      "text/plain": [
       "<Figure size 432x288 with 1 Axes>"
      ]
     },
     "metadata": {},
     "output_type": "display_data"
    }
   ],
   "source": [
    "plt.plot(result.t/60, result.y[-1,:])"
   ]
  },
  {
   "cell_type": "code",
   "execution_count": 9,
   "metadata": {},
   "outputs": [
    {
     "data": {
      "application/vnd.jupyter.widget-view+json": {
       "model_id": "2f113430b42348c7a44f296fdb9dd5a1",
       "version_major": 2,
       "version_minor": 0
      },
      "text/plain": [
       "interactive(children=(IntSlider(value=0, description='i', max=261), Output()), _dom_classes=('widget-interact'…"
      ]
     },
     "metadata": {},
     "output_type": "display_data"
    },
    {
     "data": {
      "text/plain": [
       "<function __main__.plot(i=IntSlider(value=0, description='i', max=261))>"
      ]
     },
     "execution_count": 9,
     "metadata": {},
     "output_type": "execute_result"
    }
   ],
   "source": [
    "import ipywidgets\n",
    "\n",
    "def plot(i=ipywidgets.IntSlider(min=0,max=len(result.t)-1)):\n",
    "    print('time = ', result.t[i])\n",
    "    plt.plot(result.y[:N-2,i])\n",
    "    plt.show()\n",
    "\n",
    "ipywidgets.interact(plot)"
   ]
  }
 ],
 "metadata": {
  "kernelspec": {
   "display_name": "Python 3",
   "language": "python",
   "name": "python3"
  },
  "language_info": {
   "codemirror_mode": {
    "name": "ipython",
    "version": 3
   },
   "file_extension": ".py",
   "mimetype": "text/x-python",
   "name": "python",
   "nbconvert_exporter": "python",
   "pygments_lexer": "ipython3",
   "version": "3.7.0"
  }
 },
 "nbformat": 4,
 "nbformat_minor": 2
}
